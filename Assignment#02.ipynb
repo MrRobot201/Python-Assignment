{
 "cells": [
  {
   "cell_type": "code",
   "execution_count": 1,
   "metadata": {},
   "outputs": [
    {
     "name": "stdout",
     "output_type": "stream",
     "text": [
      "Enter marks of Maths: 89\n",
      "Enter marks of English: 67\n",
      "Enter marks of Computer: 70\n",
      "Enter marks of Physics: 53\n",
      "Enter marks of Chemistry: 98\n",
      "Grade: B\n"
     ]
    }
   ],
   "source": [
    "#Task-01 (Marksheet)\n",
    "subject1= int(input(\"Enter marks of Maths: \"))\n",
    "subject2= int(input(\"Enter marks of English: \"))\n",
    "subject3= int(input(\"Enter marks of Computer: \"))\n",
    "subject4= int(input(\"Enter marks of Physics: \"))\n",
    "subject5= int(input(\"Enter marks of Chemistry: \"))\n",
    "total= subject1+subject2+subject3+subject4+subject4\n",
    "if(total>=450):\n",
    "    print(\"Grade: A\")\n",
    "elif(total>=400 & total<450):\n",
    "    print(\"Grade: B\")\n",
    "elif(total>=350 & total<400):\n",
    "    print(\"Grade: C\")\n",
    "elif(total>=300 & total<350):\n",
    "    print(\"Grade: D\")\n",
    "else:\n",
    "    print(\"Grade: F\")"
   ]
  },
  {
   "cell_type": "code",
   "execution_count": 11,
   "metadata": {},
   "outputs": [
    {
     "name": "stdout",
     "output_type": "stream",
     "text": [
      "Enter any number: 50\n",
      "Entered number is even\n"
     ]
    }
   ],
   "source": [
    "#Task-02\n",
    "num= int(input(\"Enter any number: \"))\n",
    "if(num%2 == 0):\n",
    "    print(\"Entered number is even\")\n",
    "else:\n",
    "    print(\"Entered number is odd\")\n",
    "    "
   ]
  },
  {
   "cell_type": "code",
   "execution_count": 12,
   "metadata": {},
   "outputs": [
    {
     "name": "stdout",
     "output_type": "stream",
     "text": [
      "5\n"
     ]
    }
   ],
   "source": [
    "#Task-03\n",
    "list = [\"Hoor\",20,\"Interstellar\",\"Bibliophile\",5.1]\n",
    "print(len(list))"
   ]
  },
  {
   "cell_type": "code",
   "execution_count": 13,
   "metadata": {},
   "outputs": [
    {
     "name": "stdout",
     "output_type": "stream",
     "text": [
      "171\n"
     ]
    }
   ],
   "source": [
    "#Task-04\n",
    "list = [1,2,3,4,5,67,89]\n",
    "print(sum(list))"
   ]
  },
  {
   "cell_type": "code",
   "execution_count": 14,
   "metadata": {},
   "outputs": [
    {
     "name": "stdout",
     "output_type": "stream",
     "text": [
      "89\n"
     ]
    }
   ],
   "source": [
    "#Task-05\n",
    "list = [1,2,3,4,5,67,89]\n",
    "print(max(list))"
   ]
  },
  {
   "cell_type": "code",
   "execution_count": 18,
   "metadata": {
    "scrolled": true
   },
   "outputs": [
    {
     "name": "stdout",
     "output_type": "stream",
     "text": [
      "1\n",
      "1\n",
      "2\n",
      "3\n"
     ]
    }
   ],
   "source": [
    "#Task-06\n",
    "a = [1, 1, 2, 3, 5, 8, 13, 21, 34, 55, 89]\n",
    "for numbers in a:\n",
    "    if(numbers < 5):\n",
    "        print(numbers)"
   ]
  },
  {
   "cell_type": "code",
   "execution_count": null,
   "metadata": {},
   "outputs": [],
   "source": []
  }
 ],
 "metadata": {
  "kernelspec": {
   "display_name": "Python 3",
   "language": "python",
   "name": "python3"
  },
  "language_info": {
   "codemirror_mode": {
    "name": "ipython",
    "version": 3
   },
   "file_extension": ".py",
   "mimetype": "text/x-python",
   "name": "python",
   "nbconvert_exporter": "python",
   "pygments_lexer": "ipython3",
   "version": "3.7.4"
  }
 },
 "nbformat": 4,
 "nbformat_minor": 2
}
