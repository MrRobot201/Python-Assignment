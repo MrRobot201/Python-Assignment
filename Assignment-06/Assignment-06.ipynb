{
 "cells": [
  {
   "cell_type": "code",
   "execution_count": 5,
   "metadata": {},
   "outputs": [
    {
     "name": "stdout",
     "output_type": "stream",
     "text": [
      "The car name is Bugatti having price $19 million\n",
      "The car color is black and model no is Bugatti La Voiture Noire\n",
      "The car maximum speed limit is 420km/h\n",
      "The car name is Rolls-Royce Sweptail having price $13 million\n",
      "The car color is black and model no is Rolls-Royce Sweptail\n",
      "The car maximum speed limit is 60mph\n",
      "The car name is Bugatti having price $8.9 million\n",
      "The car color is white and model no is Bugatti Centodieci\n",
      "The car maximum speed limit is 236mph\n",
      "The car name is Lamborghini having price $4.5 million\n",
      "The car color is grey and model no is  Lamborghini Veneno\n",
      "The car maximum speed limit is 356km/h\n",
      "The car name is Lamborghini having price $3.6 million\n",
      "The car color is blue and model no is Lamborghini Sian\n",
      "The car maximum speed limit is 62mph\n"
     ]
    }
   ],
   "source": [
    "class Car:\n",
    "    def __init__(self, name, color, model, price, maxspeed):\n",
    "        self.name = name\n",
    "        self.color = color\n",
    "        self.model = model\n",
    "        self.price = price\n",
    "        self.maxspeed = maxspeed\n",
    "\n",
    "    def carName(self):\n",
    "        print(\"The car name is \" + self.name+ \" \" + \"having price\" +  \" \" +self.price)\n",
    "    \n",
    "    def carColor(self):\n",
    "        print(\"The car color is \" + self.color +  \" \" +\"and model no is\" + \" \" +self.model)\n",
    "    \n",
    "    def carSpeed(self):\n",
    "        print(\"The car maximum speed limit is \" + self.maxspeed)\n",
    "    \n",
    "C1 = Car(\"Bugatti\", \"black\", \"Bugatti La Voiture Noire\", \"$19 million\", \"420km/h\")\n",
    "C1.carName()\n",
    "C1.carColor()\n",
    "C1.carSpeed()\n",
    "C2 = Car(\"Rolls-Royce Sweptail\", \"black\", \"Rolls-Royce Sweptail\", \"$13 million\", \"60mph\")\n",
    "C2.carName()\n",
    "C2.carColor()\n",
    "C2.carSpeed()\n",
    "C3 = Car(\"Bugatti\", \"white\", \"Bugatti Centodieci\", \"$8.9 million\", \"236mph\")\n",
    "C3.carName()\n",
    "C3.carColor()\n",
    "C3.carSpeed()\n",
    "C4 = Car(\"Lamborghini\", \"grey\", \" Lamborghini Veneno\", \"$4.5 million\", \"356km/h\")\n",
    "C4.carName()\n",
    "C4.carColor()\n",
    "C4.carSpeed()\n",
    "C5 = Car(\"Lamborghini\", \"blue\", \"Lamborghini Sian\", \"$3.6 million\", \"62mph\")\n",
    "C5.carName()\n",
    "C5.carColor()\n",
    "C5.carSpeed()\n",
    "\n"
   ]
  },
  {
   "cell_type": "code",
   "execution_count": null,
   "metadata": {},
   "outputs": [],
   "source": []
  }
 ],
 "metadata": {
  "kernelspec": {
   "display_name": "Python 3",
   "language": "python",
   "name": "python3"
  },
  "language_info": {
   "codemirror_mode": {
    "name": "ipython",
    "version": 3
   },
   "file_extension": ".py",
   "mimetype": "text/x-python",
   "name": "python",
   "nbconvert_exporter": "python",
   "pygments_lexer": "ipython3",
   "version": "3.7.4"
  }
 },
 "nbformat": 4,
 "nbformat_minor": 2
}
