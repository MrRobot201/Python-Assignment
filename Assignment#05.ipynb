{
 "cells": [
  {
   "cell_type": "code",
   "execution_count": 1,
   "metadata": {},
   "outputs": [
    {
     "name": "stdout",
     "output_type": "stream",
     "text": [
      "Enter a number: 5\n",
      "The factorial of 5 is 120\n"
     ]
    }
   ],
   "source": [
    "#Task-01: Python program to find the factorial of a number provided by the user.\n",
    "\n",
    "def fact(num):\n",
    "    factorial = 1\n",
    "    # check if the number is negative, positive or zero\n",
    "    if num < 0:\n",
    "       print(\"Sorry, factorial does not exist for negative numbers\")\n",
    "    elif num == 0:\n",
    "       print(\"The factorial of 0 is 1\")\n",
    "    else:\n",
    "       for i in range(1,num + 1):\n",
    "           factorial = factorial*i\n",
    "       print(\"The factorial of\",num,\"is\",factorial)\n",
    "num = int(input(\"Enter a number: \"))\n",
    "fact(num)"
   ]
  },
  {
   "cell_type": "code",
   "execution_count": 2,
   "metadata": {},
   "outputs": [
    {
     "name": "stdout",
     "output_type": "stream",
     "text": [
      "Original String :  We make the proGram of checking a String\n",
      "No. of Upper case characters :  3\n",
      "No. of Lower case Characters :  30\n"
     ]
    }
   ],
   "source": [
    "#Task-02: A python program for counting upper case and lower case letters of a given string.\n",
    "def string_test(s):\n",
    "    d={\"UPPER_CASE\":0, \"LOWER_CASE\":0}\n",
    "    for c in s:\n",
    "        if c.isupper():\n",
    "           d[\"UPPER_CASE\"]+=1\n",
    "        elif c.islower():\n",
    "           d[\"LOWER_CASE\"]+=1\n",
    "        else:\n",
    "           pass\n",
    "    print (\"Original String : \", s)\n",
    "    print (\"No. of Upper case characters : \", d[\"UPPER_CASE\"])\n",
    "    print (\"No. of Lower case Characters : \", d[\"LOWER_CASE\"])\n",
    "\n",
    "string_test('We make the proGram of checking a String')"
   ]
  },
  {
   "cell_type": "code",
   "execution_count": 3,
   "metadata": {},
   "outputs": [
    {
     "name": "stdout",
     "output_type": "stream",
     "text": [
      "10 4 66 "
     ]
    }
   ],
   "source": [
    "#Task-03: Python function to print Even Numbers in a List \n",
    "\n",
    "def evenNumber():\n",
    "    list1 = [10, 21, 4, 45, 66, 93] \n",
    "    # iterating each number in list \n",
    "    for num in list1: \n",
    "\n",
    "        # checking condition \n",
    "        if num % 2 == 0: \n",
    "           print(num, end = \" \") \n",
    "evenNumber()"
   ]
  },
  {
   "cell_type": "code",
   "execution_count": 5,
   "metadata": {},
   "outputs": [
    {
     "name": "stdout",
     "output_type": "stream",
     "text": [
      "Enter a string: maadm\n",
      "No, it's not a palindrome\n"
     ]
    }
   ],
   "source": [
    "#Task-04: Checking if a given string is palindrome or not.\n",
    "def reverse(s): \n",
    "    return s[::-1] \n",
    "  \n",
    "def isPalindrome(s): \n",
    "    rev = reverse(s) \n",
    "  \n",
    "    if (s == rev): \n",
    "        return True\n",
    "    return False\n",
    "  \n",
    "s = str(input(\"Enter a string: \"))\n",
    "ans = isPalindrome(s) \n",
    "  \n",
    "if ans == 1: \n",
    "    print(\"Yes, it is a palindrome\") \n",
    "else: \n",
    "    print(\"No, it's not a palindrome\") "
   ]
  },
  {
   "cell_type": "code",
   "execution_count": 8,
   "metadata": {},
   "outputs": [
    {
     "name": "stdout",
     "output_type": "stream",
     "text": [
      "Enter a number: 7\n",
      "7 is a prime number\n"
     ]
    }
   ],
   "source": [
    "#Task-05: Checking if the number is prime or not.\n",
    "def checkPrimeNumber(num):\n",
    "    if num > 1:  \n",
    "       for i in range(2,num):  \n",
    "           if (num % i) == 0:  \n",
    "               print(num,\"is not a prime number\")  \n",
    "               print(i,\"times\",num//i,\"is\",num)  \n",
    "               break  \n",
    "       else:  \n",
    "           print(num,\"is a prime number\")  \n",
    "\n",
    "    else:  \n",
    "       print(num,\"is not a prime number\")  \n",
    "num = int(input(\"Enter a number: \"))\n",
    "checkPrimeNumber(num)"
   ]
  },
  {
   "cell_type": "code",
   "execution_count": 13,
   "metadata": {},
   "outputs": [
    {
     "name": "stdout",
     "output_type": "stream",
     "text": [
      "milk\n",
      "egg\n",
      "bread\n"
     ]
    }
   ],
   "source": [
    "#Task-06: Taking multiple arguments in a list and print them.\n",
    "def Stuff(aList):\n",
    "    for position in range(len(aList)):\n",
    "        print(aList[position])\n",
    "        \n",
    "Items = [\"milk\", \"egg\", \"bread\"]\n",
    "Stuff(Items)\n"
   ]
  },
  {
   "cell_type": "code",
   "execution_count": null,
   "metadata": {},
   "outputs": [],
   "source": []
  }
 ],
 "metadata": {
  "kernelspec": {
   "display_name": "Python 3",
   "language": "python",
   "name": "python3"
  },
  "language_info": {
   "codemirror_mode": {
    "name": "ipython",
    "version": 3
   },
   "file_extension": ".py",
   "mimetype": "text/x-python",
   "name": "python",
   "nbconvert_exporter": "python",
   "pygments_lexer": "ipython3",
   "version": "3.7.4"
  }
 },
 "nbformat": 4,
 "nbformat_minor": 2
}
