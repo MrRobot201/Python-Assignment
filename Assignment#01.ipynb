{
 "cells": [
  {
   "cell_type": "code",
   "execution_count": 3,
   "metadata": {},
   "outputs": [
    {
     "name": "stdout",
     "output_type": "stream",
     "text": [
      "Twinkle, Twinkle, little star,\n",
      "     How i wonder what you are!\n",
      "          Up above the world so high,\n",
      "          Like a diamond in the sky.\n",
      "Twinkle, Twinkle, little star,\n",
      "     How i wonder what you are!\n"
     ]
    }
   ],
   "source": [
    "#Task 01\n",
    "String1 = \"Twinkle, Twinkle, little star,\"\n",
    "String2 = \"How i wonder what you are!\"\n",
    "String3 = \"Up above the world so high,\"\n",
    "String4 = \"Like a diamond in the sky.\"\n",
    "AddingspacestoString2 = len(String2) + 5\n",
    "StringUpdated1 = String2.rjust(AddingspacestoString2)\n",
    "AddingspacestoString3 = len(String3) + 10\n",
    "StringUpdated2 = String3.rjust(AddingspacestoString3)\n",
    "AddingspacestoString4 = len(String4) + 10\n",
    "StringUpdated3 = String4.rjust(AddingspacestoString4)\n",
    "print(String1)\n",
    "print(StringUpdated1)\n",
    "print(StringUpdated2)\n",
    "print(StringUpdated3)\n",
    "print(String1)\n",
    "print(StringUpdated1)\n",
    "\n"
   ]
  },
  {
   "cell_type": "code",
   "execution_count": 5,
   "metadata": {},
   "outputs": [
    {
     "name": "stdout",
     "output_type": "stream",
     "text": [
      "Python version\n",
      "3.7.4 (default, Aug  9 2019, 18:34:13) [MSC v.1915 64 bit (AMD64)]\n",
      "Version info.\n",
      "sys.version_info(major=3, minor=7, micro=4, releaselevel='final', serial=0)\n"
     ]
    }
   ],
   "source": [
    "#Task 02\n",
    "import sys\n",
    "print(\"Python version\")\n",
    "print (sys.version)\n",
    "print(\"Version info.\")\n",
    "print (sys.version_info)"
   ]
  },
  {
   "cell_type": "code",
   "execution_count": 7,
   "metadata": {},
   "outputs": [
    {
     "name": "stdout",
     "output_type": "stream",
     "text": [
      "2019-11-04 21:18:53.798039\n",
      "04/11/2019 21:18:53\n"
     ]
    }
   ],
   "source": [
    "#Task 03\n",
    "from datetime import datetime\n",
    "now = datetime.now()\n",
    "print( now)\n",
    "dt_string = now.strftime(\"%d/%m/%Y %H:%M:%S\")\n",
    "print(dt_string)"
   ]
  },
  {
   "cell_type": "code",
   "execution_count": 10,
   "metadata": {},
   "outputs": [
    {
     "name": "stdout",
     "output_type": "stream",
     "text": [
      "Enter the radius:5.6\n",
      "Area of the circle is : 98.52\n"
     ]
    }
   ],
   "source": [
    "#Task 04\n",
    "import math\n",
    "Radius = float(input(\"Enter the radius:\"))\n",
    "Area = math.pi * Radius * Radius\n",
    "print(\"Area of the circle is : %.2f\"  %Area)"
   ]
  },
  {
   "cell_type": "code",
   "execution_count": 12,
   "metadata": {},
   "outputs": [
    {
     "name": "stdout",
     "output_type": "stream",
     "text": [
      "Enter your first name: Hoor Ul Ain \n",
      "Enter your last : Mughal\n",
      "Mughal Hoor Ul Ain \n"
     ]
    }
   ],
   "source": [
    "#Task 05\n",
    "First_name = input(\"Enter your first name: \")\n",
    "Last_name = input(\"Enter your last : \")\n",
    "print(Last_name + \" \" + First_name)"
   ]
  },
  {
   "cell_type": "code",
   "execution_count": 13,
   "metadata": {},
   "outputs": [
    {
     "name": "stdout",
     "output_type": "stream",
     "text": [
      "Enter First number for addition: 10.4\n",
      "Enter Second number for addition: 5.9\n",
      "16.3\n"
     ]
    }
   ],
   "source": [
    "#Task 06\n",
    "FirstNumber = float(input(\"Enter First number for addition: \"))\n",
    "SecondNumber = float(input(\"Enter Second number for addition: \"))\n",
    "print(FirstNumber + SecondNumber)"
   ]
  },
  {
   "cell_type": "code",
   "execution_count": null,
   "metadata": {},
   "outputs": [],
   "source": []
  }
 ],
 "metadata": {
  "kernelspec": {
   "display_name": "Python 3",
   "language": "python",
   "name": "python3"
  },
  "language_info": {
   "codemirror_mode": {
    "name": "ipython",
    "version": 3
   },
   "file_extension": ".py",
   "mimetype": "text/x-python",
   "name": "python",
   "nbconvert_exporter": "python",
   "pygments_lexer": "ipython3",
   "version": "3.7.4"
  }
 },
 "nbformat": 4,
 "nbformat_minor": 2
}
